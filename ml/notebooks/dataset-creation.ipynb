{
 "cells": [
  {
   "cell_type": "markdown",
   "id": "dabc75cf",
   "metadata": {},
   "source": [
    "# Synthetic dataset creation"
   ]
  },
  {
   "cell_type": "code",
   "execution_count": 129,
   "id": "5bd34d67",
   "metadata": {},
   "outputs": [],
   "source": [
    "import pandas as pd"
   ]
  },
  {
   "cell_type": "code",
   "execution_count": 130,
   "id": "c5b2c6dc",
   "metadata": {},
   "outputs": [],
   "source": [
    "roles_dataset = pd.read_csv(\"../datasets/roles_dataset.csv\")"
   ]
  },
  {
   "cell_type": "code",
   "execution_count": 131,
   "id": "a1bf947d",
   "metadata": {},
   "outputs": [
    {
     "data": {
      "text/html": [
       "<div>\n",
       "<style scoped>\n",
       "    .dataframe tbody tr th:only-of-type {\n",
       "        vertical-align: middle;\n",
       "    }\n",
       "\n",
       "    .dataframe tbody tr th {\n",
       "        vertical-align: top;\n",
       "    }\n",
       "\n",
       "    .dataframe thead th {\n",
       "        text-align: right;\n",
       "    }\n",
       "</style>\n",
       "<table border=\"1\" class=\"dataframe\">\n",
       "  <thead>\n",
       "    <tr style=\"text-align: right;\">\n",
       "      <th></th>\n",
       "      <th>Role</th>\n",
       "      <th>Description</th>\n",
       "    </tr>\n",
       "  </thead>\n",
       "  <tbody>\n",
       "    <tr>\n",
       "      <th>0</th>\n",
       "      <td>Backend Developer</td>\n",
       "      <td>Designs and implements server-side logic, data...</td>\n",
       "    </tr>\n",
       "    <tr>\n",
       "      <th>1</th>\n",
       "      <td>Frontend Developer</td>\n",
       "      <td>Builds and maintains the user interfaces and u...</td>\n",
       "    </tr>\n",
       "    <tr>\n",
       "      <th>2</th>\n",
       "      <td>Fullstack Developer</td>\n",
       "      <td>Works on both frontend and backend development...</td>\n",
       "    </tr>\n",
       "    <tr>\n",
       "      <th>3</th>\n",
       "      <td>Mobile Developer</td>\n",
       "      <td>Develops applications for mobile platforms suc...</td>\n",
       "    </tr>\n",
       "    <tr>\n",
       "      <th>4</th>\n",
       "      <td>ML Engineer</td>\n",
       "      <td>Designs, builds, and deploys machine learning ...</td>\n",
       "    </tr>\n",
       "  </tbody>\n",
       "</table>\n",
       "</div>"
      ],
      "text/plain": [
       "                  Role                                        Description\n",
       "0    Backend Developer  Designs and implements server-side logic, data...\n",
       "1   Frontend Developer  Builds and maintains the user interfaces and u...\n",
       "2  Fullstack Developer  Works on both frontend and backend development...\n",
       "3     Mobile Developer  Develops applications for mobile platforms suc...\n",
       "4          ML Engineer  Designs, builds, and deploys machine learning ..."
      ]
     },
     "execution_count": 131,
     "metadata": {},
     "output_type": "execute_result"
    }
   ],
   "source": [
    "roles_dataset.head()"
   ]
  },
  {
   "cell_type": "code",
   "execution_count": 132,
   "id": "4c738903",
   "metadata": {},
   "outputs": [],
   "source": [
    "teams_dataset = pd.read_csv(\"../datasets/teams_dataset.csv\")"
   ]
  },
  {
   "cell_type": "code",
   "execution_count": 133,
   "id": "5388c34c",
   "metadata": {},
   "outputs": [
    {
     "data": {
      "text/html": [
       "<div>\n",
       "<style scoped>\n",
       "    .dataframe tbody tr th:only-of-type {\n",
       "        vertical-align: middle;\n",
       "    }\n",
       "\n",
       "    .dataframe tbody tr th {\n",
       "        vertical-align: top;\n",
       "    }\n",
       "\n",
       "    .dataframe thead th {\n",
       "        text-align: right;\n",
       "    }\n",
       "</style>\n",
       "<table border=\"1\" class=\"dataframe\">\n",
       "  <thead>\n",
       "    <tr style=\"text-align: right;\">\n",
       "      <th></th>\n",
       "      <th>Project name</th>\n",
       "      <th>Description of the project</th>\n",
       "    </tr>\n",
       "  </thead>\n",
       "  <tbody>\n",
       "    <tr>\n",
       "      <th>0</th>\n",
       "      <td>TeamSync</td>\n",
       "      <td>TeamSync aims to improve the quality and balan...</td>\n",
       "    </tr>\n",
       "    <tr>\n",
       "      <th>1</th>\n",
       "      <td>RandomCoffee</td>\n",
       "      <td>Random Coffee is a web-based service integrate...</td>\n",
       "    </tr>\n",
       "    <tr>\n",
       "      <th>2</th>\n",
       "      <td>EvOps 🐳</td>\n",
       "      <td>A self-hosted platform to share and discover l...</td>\n",
       "    </tr>\n",
       "    <tr>\n",
       "      <th>3</th>\n",
       "      <td>UrTraining</td>\n",
       "      <td>A web-based platform for creating, distributin...</td>\n",
       "    </tr>\n",
       "    <tr>\n",
       "      <th>4</th>\n",
       "      <td>Online game 7Red</td>\n",
       "      <td>An online version of the Russian game \"7Red\" w...</td>\n",
       "    </tr>\n",
       "  </tbody>\n",
       "</table>\n",
       "</div>"
      ],
      "text/plain": [
       "       Project name                         Description of the project\n",
       "0          TeamSync  TeamSync aims to improve the quality and balan...\n",
       "1      RandomCoffee  Random Coffee is a web-based service integrate...\n",
       "2           EvOps 🐳  A self-hosted platform to share and discover l...\n",
       "3        UrTraining  A web-based platform for creating, distributin...\n",
       "4  Online game 7Red  An online version of the Russian game \"7Red\" w..."
      ]
     },
     "execution_count": 133,
     "metadata": {},
     "output_type": "execute_result"
    }
   ],
   "source": [
    "teams_dataset.head()"
   ]
  },
  {
   "cell_type": "code",
   "execution_count": 134,
   "id": "a41d8908",
   "metadata": {},
   "outputs": [],
   "source": [
    "tools_dataset = pd.read_csv(\"../datasets/tools_dataset.csv\")"
   ]
  },
  {
   "cell_type": "code",
   "execution_count": 135,
   "id": "24b9d749",
   "metadata": {},
   "outputs": [
    {
     "data": {
      "text/html": [
       "<div>\n",
       "<style scoped>\n",
       "    .dataframe tbody tr th:only-of-type {\n",
       "        vertical-align: middle;\n",
       "    }\n",
       "\n",
       "    .dataframe tbody tr th {\n",
       "        vertical-align: top;\n",
       "    }\n",
       "\n",
       "    .dataframe thead th {\n",
       "        text-align: right;\n",
       "    }\n",
       "</style>\n",
       "<table border=\"1\" class=\"dataframe\">\n",
       "  <thead>\n",
       "    <tr style=\"text-align: right;\">\n",
       "      <th></th>\n",
       "      <th>Role</th>\n",
       "      <th>Tool</th>\n",
       "      <th>Description</th>\n",
       "    </tr>\n",
       "  </thead>\n",
       "  <tbody>\n",
       "    <tr>\n",
       "      <th>0</th>\n",
       "      <td>ML / Data Science</td>\n",
       "      <td>Python</td>\n",
       "      <td>Data science, ML, web, scripting</td>\n",
       "    </tr>\n",
       "    <tr>\n",
       "      <th>1</th>\n",
       "      <td>Backend</td>\n",
       "      <td>Python</td>\n",
       "      <td>Data science, ML, web, scripting</td>\n",
       "    </tr>\n",
       "    <tr>\n",
       "      <th>2</th>\n",
       "      <td>Frontend</td>\n",
       "      <td>JavaScript</td>\n",
       "      <td>Web, frontend/backend, Node.js</td>\n",
       "    </tr>\n",
       "    <tr>\n",
       "      <th>3</th>\n",
       "      <td>Backend</td>\n",
       "      <td>JavaScript</td>\n",
       "      <td>Web, frontend/backend, Node.js</td>\n",
       "    </tr>\n",
       "    <tr>\n",
       "      <th>4</th>\n",
       "      <td>Backend</td>\n",
       "      <td>Java</td>\n",
       "      <td>Enterprise, Android, backend</td>\n",
       "    </tr>\n",
       "    <tr>\n",
       "      <th>5</th>\n",
       "      <td>Mobile</td>\n",
       "      <td>Java</td>\n",
       "      <td>Enterprise, Android, backend</td>\n",
       "    </tr>\n",
       "    <tr>\n",
       "      <th>6</th>\n",
       "      <td>Backend</td>\n",
       "      <td>C#</td>\n",
       "      <td>.NET stack, games, enterprise</td>\n",
       "    </tr>\n",
       "    <tr>\n",
       "      <th>7</th>\n",
       "      <td>GameDev</td>\n",
       "      <td>C#</td>\n",
       "      <td>.NET stack, games, enterprise</td>\n",
       "    </tr>\n",
       "    <tr>\n",
       "      <th>8</th>\n",
       "      <td>Backend</td>\n",
       "      <td>C++</td>\n",
       "      <td>System, games, embedded</td>\n",
       "    </tr>\n",
       "    <tr>\n",
       "      <th>9</th>\n",
       "      <td>GameDev</td>\n",
       "      <td>C++</td>\n",
       "      <td>System, games, embedded</td>\n",
       "    </tr>\n",
       "    <tr>\n",
       "      <th>10</th>\n",
       "      <td>Backend</td>\n",
       "      <td>TypeScript</td>\n",
       "      <td>Typed JS, large web apps</td>\n",
       "    </tr>\n",
       "    <tr>\n",
       "      <th>11</th>\n",
       "      <td>Frontend</td>\n",
       "      <td>TypeScript</td>\n",
       "      <td>Typed JS, large web apps</td>\n",
       "    </tr>\n",
       "    <tr>\n",
       "      <th>12</th>\n",
       "      <td>Backend</td>\n",
       "      <td>Go</td>\n",
       "      <td>Cloud, backend, scalable systems</td>\n",
       "    </tr>\n",
       "    <tr>\n",
       "      <th>13</th>\n",
       "      <td>Backend</td>\n",
       "      <td>Ruby</td>\n",
       "      <td>Web (Rails), scripting</td>\n",
       "    </tr>\n",
       "    <tr>\n",
       "      <th>14</th>\n",
       "      <td>Backend</td>\n",
       "      <td>PHP</td>\n",
       "      <td>Web, CMS (WordPress, etc.)</td>\n",
       "    </tr>\n",
       "    <tr>\n",
       "      <th>15</th>\n",
       "      <td>Frontend</td>\n",
       "      <td>Swift</td>\n",
       "      <td>iOS/macOS apps</td>\n",
       "    </tr>\n",
       "    <tr>\n",
       "      <th>16</th>\n",
       "      <td>Mobile</td>\n",
       "      <td>Swift</td>\n",
       "      <td>iOS/macOS apps</td>\n",
       "    </tr>\n",
       "    <tr>\n",
       "      <th>17</th>\n",
       "      <td>Mobile</td>\n",
       "      <td>Kotlin</td>\n",
       "      <td>Android, JVM apps</td>\n",
       "    </tr>\n",
       "    <tr>\n",
       "      <th>18</th>\n",
       "      <td>Backend</td>\n",
       "      <td>Kotlin</td>\n",
       "      <td>Android, JVM apps</td>\n",
       "    </tr>\n",
       "    <tr>\n",
       "      <th>19</th>\n",
       "      <td>System</td>\n",
       "      <td>Rust</td>\n",
       "      <td>System, secure &amp; performant apps</td>\n",
       "    </tr>\n",
       "  </tbody>\n",
       "</table>\n",
       "</div>"
      ],
      "text/plain": [
       "                 Role        Tool                       Description\n",
       "0   ML / Data Science      Python  Data science, ML, web, scripting\n",
       "1             Backend      Python  Data science, ML, web, scripting\n",
       "2            Frontend  JavaScript    Web, frontend/backend, Node.js\n",
       "3             Backend  JavaScript    Web, frontend/backend, Node.js\n",
       "4             Backend        Java      Enterprise, Android, backend\n",
       "5              Mobile        Java      Enterprise, Android, backend\n",
       "6             Backend          C#     .NET stack, games, enterprise\n",
       "7             GameDev          C#     .NET stack, games, enterprise\n",
       "8             Backend         C++           System, games, embedded\n",
       "9             GameDev         C++           System, games, embedded\n",
       "10            Backend  TypeScript          Typed JS, large web apps\n",
       "11           Frontend  TypeScript          Typed JS, large web apps\n",
       "12            Backend          Go  Cloud, backend, scalable systems\n",
       "13            Backend        Ruby            Web (Rails), scripting\n",
       "14            Backend         PHP        Web, CMS (WordPress, etc.)\n",
       "15           Frontend       Swift                    iOS/macOS apps\n",
       "16             Mobile       Swift                    iOS/macOS apps\n",
       "17             Mobile      Kotlin                 Android, JVM apps\n",
       "18            Backend      Kotlin                 Android, JVM apps\n",
       "19             System        Rust  System, secure & performant apps"
      ]
     },
     "execution_count": 135,
     "metadata": {},
     "output_type": "execute_result"
    }
   ],
   "source": [
    "tools_dataset.head(20)"
   ]
  },
  {
   "cell_type": "code",
   "execution_count": 136,
   "id": "6f430e38",
   "metadata": {},
   "outputs": [],
   "source": [
    "def check_tool_in_dataset(x):\n",
    "    basic_backend_languages = [\"Python\", \"Java\", \"C#\", \"Go\"]\n"
   ]
  },
  {
   "cell_type": "code",
   "execution_count": 137,
   "id": "9978bf83",
   "metadata": {},
   "outputs": [],
   "source": [
    "basic_backend_languages = [\"Python\", \"Java\", \"C#\", \"Go\"]"
   ]
  },
  {
   "cell_type": "code",
   "execution_count": 138,
   "id": "0e322fbb",
   "metadata": {},
   "outputs": [],
   "source": [
    "# import re\n",
    "# def delete_brackets(x):\n",
    "#     if isinstance(x, str):\n",
    "#         return re.sub(r'\\s\\(.*?\\)', '', x)\n",
    "#     return x"
   ]
  },
  {
   "cell_type": "code",
   "execution_count": 139,
   "id": "185328e8",
   "metadata": {},
   "outputs": [
    {
     "name": "stdout",
     "output_type": "stream",
     "text": [
      "{'Python': ['Django (Python)', 'Flask (Python)', 'FastAPI (Python)', 'Scrapy (Python)', 'Bottle (Python)', 'Tornado (Python)'], 'Java': ['JavaScript', 'Express.js (JavaScript)', 'Spring Boot (Java)', 'Hibernate (Java)', 'Jakarta EE (Java)', 'Micronaut (Java)', 'Vert.x (Java)', 'Sequelize (JavaScript)', 'Hapi (JavaScript)'], 'C#': ['ASP.NET Core (C#)', 'Entity Framework (C#)'], 'Go': ['Gin (Go)', 'Echo (Go)', 'Beego (Go)', 'Revel (Go)', 'GORM (Go)']}\n"
     ]
    }
   ],
   "source": [
    "backend_tools = {}\n",
    "for language in basic_backend_languages:\n",
    "    backend_tools[language] = tools_dataset[tools_dataset[\"Tool\"].apply(lambda x: language in x) & (tools_dataset[\"Role\"] == \"Backend\") & (tools_dataset[\"Tool\"] != language)][\"Tool\"].tolist()\n",
    "    # backend_tools[language] = [delete_brackets(tool) for tool in backend_tools[language]]\n",
    "print(backend_tools)"
   ]
  },
  {
   "cell_type": "code",
   "execution_count": 140,
   "id": "8585c4c0",
   "metadata": {},
   "outputs": [
    {
     "name": "stdout",
     "output_type": "stream",
     "text": [
      "['Scala', 'MATLAB', 'R', 'Julia', 'Fortran', 'TensorFlow (Python)', 'PyTorch (Python)', 'scikit-learn (Python)', 'OpenCV (C++)', 'BeautifulSoup (Python)', 'Requests (Python)']\n"
     ]
    }
   ],
   "source": [
    "basic_ml_tools = [\"Python\", \"NumPy (Python)\", \"pandas (Python)\", \"Matplotlib (Python)\"]\n",
    "ML_tools = tools_dataset[(tools_dataset[\"Role\"] == \"ML / Data Science\") & (~tools_dataset[\"Tool\"].isin(basic_ml_tools))][\"Tool\"].tolist()\n",
    "print(ML_tools)"
   ]
  },
  {
   "cell_type": "code",
   "execution_count": 141,
   "id": "dc4bcacc",
   "metadata": {},
   "outputs": [
    {
     "name": "stdout",
     "output_type": "stream",
     "text": [
      "['TypeScript', 'Swift', 'Dart', 'Elm', 'React (JavaScript)', 'Vue.js (JavaScript)', 'Angular (TypeScript)', 'Next.js (JavaScript)', 'jQuery (JavaScript)', 'D3.js (JavaScript)', 'Three.js (JavaScript)', 'Blazor (C#)', 'RxJS (TypeScript)', 'SwiftUI (Swift)', 'Combine (Swift)', 'Flutter (Dart)', 'Svelte (JavaScript)', 'Chart.js (JavaScript)']\n"
     ]
    }
   ],
   "source": [
    "basic_frontend_tools = [\"JavaScript\", \"HTML\", \"CSS\"]\n",
    "Frontend_tools = tools_dataset[(tools_dataset[\"Role\"] == \"Frontend\") & (~tools_dataset[\"Tool\"].isin(basic_frontend_tools))][\"Tool\"].tolist()\n",
    "print(Frontend_tools)"
   ]
  },
  {
   "cell_type": "code",
   "execution_count": 142,
   "id": "e3037c91",
   "metadata": {},
   "outputs": [],
   "source": [
    "counter = 0"
   ]
  },
  {
   "cell_type": "code",
   "execution_count": 143,
   "id": "d39241ba",
   "metadata": {},
   "outputs": [],
   "source": [
    "import random"
   ]
  },
  {
   "cell_type": "code",
   "execution_count": 144,
   "id": "c22a468e",
   "metadata": {},
   "outputs": [],
   "source": [
    "roles = [\"Backend\", \"Frontend\", \"ML / Data Science\"]"
   ]
  },
  {
   "cell_type": "code",
   "execution_count": 145,
   "id": "70367152",
   "metadata": {},
   "outputs": [],
   "source": [
    "def generate_skills(role):\n",
    "    result = []\n",
    "    if role == \"Backend\":\n",
    "        language = random.choice(basic_backend_languages)\n",
    "        result.append(language)\n",
    "        result.extend(random.sample(backend_tools[language], random.randint(1, min(5, len(backend_tools[language])))))\n",
    "    elif role == \"Frontend\":\n",
    "        result = basic_frontend_tools\n",
    "        result.extend(random.sample(Frontend_tools, random.randint(1, min(5, len(Frontend_tools)))))\n",
    "    elif role == \"ML / Data Science\":\n",
    "        result = basic_ml_tools\n",
    "        result.extend(random.sample(ML_tools, random.randint(1, min(5, len(ML_tools)))))\n",
    "\n",
    "    for i in range(0, random.randint(0, 5)):\n",
    "        skill = random.choice(tools_dataset[\"Tool\"].tolist())\n",
    "        if skill not in result:\n",
    "            result.append(skill)\n",
    "    return result"
   ]
  },
  {
   "cell_type": "code",
   "execution_count": 146,
   "id": "a3a9e362",
   "metadata": {},
   "outputs": [],
   "source": [
    "counter = 0\n",
    "for i in range(0, 3):\n",
    "    teams_dataset[f\"Member_{i}\"] = \"\"\n",
    "    for idx in teams_dataset.index:\n",
    "        teams_dataset.at[idx, f\"Member_{i}\"] = f\"Member_{i}_{counter}\"\n",
    "        counter += 1\n",
    "    teams_dataset[f\"Member_{i}_role\"] = \"\"\n",
    "    for idx in teams_dataset.index:\n",
    "        teams_dataset.at[idx, f\"Member_{i}_role\"] = random.choice(roles)\n",
    "    teams_dataset[f\"Member_{i}_skills\"] = \"\"\n",
    "    for idx in teams_dataset.index:\n",
    "        role = teams_dataset.at[idx, f\"Member_{i}_role\"]\n",
    "        skills = generate_skills(role)\n",
    "        teams_dataset.at[idx, f\"Member_{i}_skills\"] = skills\n"
   ]
  },
  {
   "cell_type": "code",
   "execution_count": 147,
   "id": "938f5e68",
   "metadata": {},
   "outputs": [
    {
     "data": {
      "text/html": [
       "<div>\n",
       "<style scoped>\n",
       "    .dataframe tbody tr th:only-of-type {\n",
       "        vertical-align: middle;\n",
       "    }\n",
       "\n",
       "    .dataframe tbody tr th {\n",
       "        vertical-align: top;\n",
       "    }\n",
       "\n",
       "    .dataframe thead th {\n",
       "        text-align: right;\n",
       "    }\n",
       "</style>\n",
       "<table border=\"1\" class=\"dataframe\">\n",
       "  <thead>\n",
       "    <tr style=\"text-align: right;\">\n",
       "      <th></th>\n",
       "      <th>Project name</th>\n",
       "      <th>Description of the project</th>\n",
       "      <th>Member_0</th>\n",
       "      <th>Member_0_role</th>\n",
       "      <th>Member_0_skills</th>\n",
       "      <th>Member_1</th>\n",
       "      <th>Member_1_role</th>\n",
       "      <th>Member_1_skills</th>\n",
       "      <th>Member_2</th>\n",
       "      <th>Member_2_role</th>\n",
       "      <th>Member_2_skills</th>\n",
       "    </tr>\n",
       "  </thead>\n",
       "  <tbody>\n",
       "    <tr>\n",
       "      <th>0</th>\n",
       "      <td>TeamSync</td>\n",
       "      <td>TeamSync aims to improve the quality and balan...</td>\n",
       "      <td>Member_0_0</td>\n",
       "      <td>Frontend</td>\n",
       "      <td>[JavaScript, HTML, CSS, Chart.js (JavaScript),...</td>\n",
       "      <td>Member_1_49</td>\n",
       "      <td>Frontend</td>\n",
       "      <td>[JavaScript, HTML, CSS, Chart.js (JavaScript),...</td>\n",
       "      <td>Member_2_98</td>\n",
       "      <td>ML / Data Science</td>\n",
       "      <td>[Python, NumPy (Python), pandas (Python), Matp...</td>\n",
       "    </tr>\n",
       "    <tr>\n",
       "      <th>1</th>\n",
       "      <td>RandomCoffee</td>\n",
       "      <td>Random Coffee is a web-based service integrate...</td>\n",
       "      <td>Member_0_1</td>\n",
       "      <td>Frontend</td>\n",
       "      <td>[JavaScript, HTML, CSS, Chart.js (JavaScript),...</td>\n",
       "      <td>Member_1_50</td>\n",
       "      <td>Frontend</td>\n",
       "      <td>[JavaScript, HTML, CSS, Chart.js (JavaScript),...</td>\n",
       "      <td>Member_2_99</td>\n",
       "      <td>Frontend</td>\n",
       "      <td>[JavaScript, HTML, CSS, Chart.js (JavaScript),...</td>\n",
       "    </tr>\n",
       "    <tr>\n",
       "      <th>2</th>\n",
       "      <td>EvOps 🐳</td>\n",
       "      <td>A self-hosted platform to share and discover l...</td>\n",
       "      <td>Member_0_2</td>\n",
       "      <td>Frontend</td>\n",
       "      <td>[JavaScript, HTML, CSS, Chart.js (JavaScript),...</td>\n",
       "      <td>Member_1_51</td>\n",
       "      <td>Backend</td>\n",
       "      <td>[Python, Flask (Python)]</td>\n",
       "      <td>Member_2_100</td>\n",
       "      <td>Frontend</td>\n",
       "      <td>[JavaScript, HTML, CSS, Chart.js (JavaScript),...</td>\n",
       "    </tr>\n",
       "    <tr>\n",
       "      <th>3</th>\n",
       "      <td>UrTraining</td>\n",
       "      <td>A web-based platform for creating, distributin...</td>\n",
       "      <td>Member_0_3</td>\n",
       "      <td>ML / Data Science</td>\n",
       "      <td>[Python, NumPy (Python), pandas (Python), Matp...</td>\n",
       "      <td>Member_1_52</td>\n",
       "      <td>Backend</td>\n",
       "      <td>[Go, GORM (Go), Sequelize (JavaScript)]</td>\n",
       "      <td>Member_2_101</td>\n",
       "      <td>Frontend</td>\n",
       "      <td>[JavaScript, HTML, CSS, Chart.js (JavaScript),...</td>\n",
       "    </tr>\n",
       "    <tr>\n",
       "      <th>4</th>\n",
       "      <td>Online game 7Red</td>\n",
       "      <td>An online version of the Russian game \"7Red\" w...</td>\n",
       "      <td>Member_0_4</td>\n",
       "      <td>ML / Data Science</td>\n",
       "      <td>[Python, NumPy (Python), pandas (Python), Matp...</td>\n",
       "      <td>Member_1_53</td>\n",
       "      <td>Backend</td>\n",
       "      <td>[Java, Jakarta EE (Java), Lua, SwiftUI (Swift)...</td>\n",
       "      <td>Member_2_102</td>\n",
       "      <td>Backend</td>\n",
       "      <td>[Java, Micronaut (Java), JavaScript]</td>\n",
       "    </tr>\n",
       "  </tbody>\n",
       "</table>\n",
       "</div>"
      ],
      "text/plain": [
       "       Project name                         Description of the project  \\\n",
       "0          TeamSync  TeamSync aims to improve the quality and balan...   \n",
       "1      RandomCoffee  Random Coffee is a web-based service integrate...   \n",
       "2           EvOps 🐳  A self-hosted platform to share and discover l...   \n",
       "3        UrTraining  A web-based platform for creating, distributin...   \n",
       "4  Online game 7Red  An online version of the Russian game \"7Red\" w...   \n",
       "\n",
       "     Member_0      Member_0_role  \\\n",
       "0  Member_0_0           Frontend   \n",
       "1  Member_0_1           Frontend   \n",
       "2  Member_0_2           Frontend   \n",
       "3  Member_0_3  ML / Data Science   \n",
       "4  Member_0_4  ML / Data Science   \n",
       "\n",
       "                                     Member_0_skills     Member_1  \\\n",
       "0  [JavaScript, HTML, CSS, Chart.js (JavaScript),...  Member_1_49   \n",
       "1  [JavaScript, HTML, CSS, Chart.js (JavaScript),...  Member_1_50   \n",
       "2  [JavaScript, HTML, CSS, Chart.js (JavaScript),...  Member_1_51   \n",
       "3  [Python, NumPy (Python), pandas (Python), Matp...  Member_1_52   \n",
       "4  [Python, NumPy (Python), pandas (Python), Matp...  Member_1_53   \n",
       "\n",
       "  Member_1_role                                    Member_1_skills  \\\n",
       "0      Frontend  [JavaScript, HTML, CSS, Chart.js (JavaScript),...   \n",
       "1      Frontend  [JavaScript, HTML, CSS, Chart.js (JavaScript),...   \n",
       "2       Backend                           [Python, Flask (Python)]   \n",
       "3       Backend            [Go, GORM (Go), Sequelize (JavaScript)]   \n",
       "4       Backend  [Java, Jakarta EE (Java), Lua, SwiftUI (Swift)...   \n",
       "\n",
       "       Member_2      Member_2_role  \\\n",
       "0   Member_2_98  ML / Data Science   \n",
       "1   Member_2_99           Frontend   \n",
       "2  Member_2_100           Frontend   \n",
       "3  Member_2_101           Frontend   \n",
       "4  Member_2_102            Backend   \n",
       "\n",
       "                                     Member_2_skills  \n",
       "0  [Python, NumPy (Python), pandas (Python), Matp...  \n",
       "1  [JavaScript, HTML, CSS, Chart.js (JavaScript),...  \n",
       "2  [JavaScript, HTML, CSS, Chart.js (JavaScript),...  \n",
       "3  [JavaScript, HTML, CSS, Chart.js (JavaScript),...  \n",
       "4               [Java, Micronaut (Java), JavaScript]  "
      ]
     },
     "execution_count": 147,
     "metadata": {},
     "output_type": "execute_result"
    }
   ],
   "source": [
    "teams_dataset.head()"
   ]
  },
  {
   "cell_type": "code",
   "execution_count": 148,
   "id": "fe826d3d",
   "metadata": {},
   "outputs": [],
   "source": [
    "path_to_save = \"../datasets/teams_dataset_with_skills.csv\"\n",
    "teams_dataset.to_csv(path_to_save, index=False)"
   ]
  },
  {
   "cell_type": "code",
   "execution_count": null,
   "id": "f61a4ed9",
   "metadata": {},
   "outputs": [],
   "source": []
  }
 ],
 "metadata": {
  "kernelspec": {
   "display_name": "base",
   "language": "python",
   "name": "python3"
  },
  "language_info": {
   "codemirror_mode": {
    "name": "ipython",
    "version": 3
   },
   "file_extension": ".py",
   "mimetype": "text/x-python",
   "name": "python",
   "nbconvert_exporter": "python",
   "pygments_lexer": "ipython3",
   "version": "3.12.7"
  }
 },
 "nbformat": 4,
 "nbformat_minor": 5
}
